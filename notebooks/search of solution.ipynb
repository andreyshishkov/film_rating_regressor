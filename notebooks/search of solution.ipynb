{
 "cells": [
  {
   "cell_type": "code",
   "execution_count": 76,
   "id": "96a39622",
   "metadata": {},
   "outputs": [],
   "source": [
    "import numpy as np\n",
    "import pandas as pd\n",
    "import matplotlib.pyplot as plt\n",
    "%matplotlib inline"
   ]
  },
  {
   "cell_type": "markdown",
   "id": "001dedf5",
   "metadata": {},
   "source": [
    "# Preprocessing of data"
   ]
  },
  {
   "cell_type": "code",
   "execution_count": 77,
   "id": "4a877b83",
   "metadata": {},
   "outputs": [],
   "source": [
    "df = pd.read_csv('../data/film_ratings_1.csv', delimiter=';')"
   ]
  },
  {
   "cell_type": "code",
   "execution_count": 78,
   "id": "bcf1f5b5",
   "metadata": {},
   "outputs": [
    {
     "data": {
      "text/html": [
       "<div>\n",
       "<style scoped>\n",
       "    .dataframe tbody tr th:only-of-type {\n",
       "        vertical-align: middle;\n",
       "    }\n",
       "\n",
       "    .dataframe tbody tr th {\n",
       "        vertical-align: top;\n",
       "    }\n",
       "\n",
       "    .dataframe thead th {\n",
       "        text-align: right;\n",
       "    }\n",
       "</style>\n",
       "<table border=\"1\" class=\"dataframe\">\n",
       "  <thead>\n",
       "    <tr style=\"text-align: right;\">\n",
       "      <th></th>\n",
       "      <th>description</th>\n",
       "      <th>genre</th>\n",
       "      <th>rating</th>\n",
       "    </tr>\n",
       "  </thead>\n",
       "  <tbody>\n",
       "    <tr>\n",
       "      <th>0</th>\n",
       "      <td>1987 год. Джордан Белфорт становится брокером ...</td>\n",
       "      <td>драма,криминал,биография,комедия</td>\n",
       "      <td>7.9</td>\n",
       "    </tr>\n",
       "    <tr>\n",
       "      <th>1</th>\n",
       "      <td>Добро пожаловать в Зверополис – современный го...</td>\n",
       "      <td>мультфильм,комедия,криминал,детектив,приключен...</td>\n",
       "      <td>8.3</td>\n",
       "    </tr>\n",
       "    <tr>\n",
       "      <th>2</th>\n",
       "      <td>Американское семейство отправляется из Чикаго ...</td>\n",
       "      <td>комедия,семейный</td>\n",
       "      <td>8.3</td>\n",
       "    </tr>\n",
       "    <tr>\n",
       "      <th>3</th>\n",
       "      <td>К концу подходит время благоденствия, и лето, ...</td>\n",
       "      <td>фэнтези,драма,боевик,мелодрама,приключения</td>\n",
       "      <td>9.0</td>\n",
       "    </tr>\n",
       "    <tr>\n",
       "      <th>4</th>\n",
       "      <td>Жизнь харизматичного авантюриста, капитана Дже...</td>\n",
       "      <td>фэнтези,боевик,приключения</td>\n",
       "      <td>8.4</td>\n",
       "    </tr>\n",
       "  </tbody>\n",
       "</table>\n",
       "</div>"
      ],
      "text/plain": [
       "                                         description  \\\n",
       "0  1987 год. Джордан Белфорт становится брокером ...   \n",
       "1  Добро пожаловать в Зверополис – современный го...   \n",
       "2  Американское семейство отправляется из Чикаго ...   \n",
       "3  К концу подходит время благоденствия, и лето, ...   \n",
       "4  Жизнь харизматичного авантюриста, капитана Дже...   \n",
       "\n",
       "                                               genre  rating  \n",
       "0                   драма,криминал,биография,комедия     7.9  \n",
       "1  мультфильм,комедия,криминал,детектив,приключен...     8.3  \n",
       "2                                   комедия,семейный     8.3  \n",
       "3         фэнтези,драма,боевик,мелодрама,приключения     9.0  \n",
       "4                         фэнтези,боевик,приключения     8.4  "
      ]
     },
     "execution_count": 78,
     "metadata": {},
     "output_type": "execute_result"
    }
   ],
   "source": [
    "df.head()"
   ]
  },
  {
   "cell_type": "code",
   "execution_count": 79,
   "id": "7dd65766",
   "metadata": {},
   "outputs": [],
   "source": [
    "# возьмем описание и рейтинг из таблицы"
   ]
  },
  {
   "cell_type": "code",
   "execution_count": 80,
   "id": "a7770966",
   "metadata": {},
   "outputs": [
    {
     "data": {
      "text/html": [
       "<div>\n",
       "<style scoped>\n",
       "    .dataframe tbody tr th:only-of-type {\n",
       "        vertical-align: middle;\n",
       "    }\n",
       "\n",
       "    .dataframe tbody tr th {\n",
       "        vertical-align: top;\n",
       "    }\n",
       "\n",
       "    .dataframe thead th {\n",
       "        text-align: right;\n",
       "    }\n",
       "</style>\n",
       "<table border=\"1\" class=\"dataframe\">\n",
       "  <thead>\n",
       "    <tr style=\"text-align: right;\">\n",
       "      <th></th>\n",
       "      <th>description</th>\n",
       "      <th>rating</th>\n",
       "    </tr>\n",
       "  </thead>\n",
       "  <tbody>\n",
       "    <tr>\n",
       "      <th>0</th>\n",
       "      <td>1987 год. Джордан Белфорт становится брокером ...</td>\n",
       "      <td>7.9</td>\n",
       "    </tr>\n",
       "    <tr>\n",
       "      <th>1</th>\n",
       "      <td>Добро пожаловать в Зверополис – современный го...</td>\n",
       "      <td>8.3</td>\n",
       "    </tr>\n",
       "    <tr>\n",
       "      <th>2</th>\n",
       "      <td>Американское семейство отправляется из Чикаго ...</td>\n",
       "      <td>8.3</td>\n",
       "    </tr>\n",
       "    <tr>\n",
       "      <th>3</th>\n",
       "      <td>К концу подходит время благоденствия, и лето, ...</td>\n",
       "      <td>9.0</td>\n",
       "    </tr>\n",
       "    <tr>\n",
       "      <th>4</th>\n",
       "      <td>Жизнь харизматичного авантюриста, капитана Дже...</td>\n",
       "      <td>8.4</td>\n",
       "    </tr>\n",
       "  </tbody>\n",
       "</table>\n",
       "</div>"
      ],
      "text/plain": [
       "                                         description  rating\n",
       "0  1987 год. Джордан Белфорт становится брокером ...     7.9\n",
       "1  Добро пожаловать в Зверополис – современный го...     8.3\n",
       "2  Американское семейство отправляется из Чикаго ...     8.3\n",
       "3  К концу подходит время благоденствия, и лето, ...     9.0\n",
       "4  Жизнь харизматичного авантюриста, капитана Дже...     8.4"
      ]
     },
     "execution_count": 80,
     "metadata": {},
     "output_type": "execute_result"
    }
   ],
   "source": [
    "data = df.drop(columns=['genre'])\n",
    "data.head()"
   ]
  },
  {
   "cell_type": "markdown",
   "id": "14290677",
   "metadata": {},
   "source": [
    "### Посмотрим распределение длины описания"
   ]
  },
  {
   "cell_type": "code",
   "execution_count": 81,
   "id": "9f97495d",
   "metadata": {},
   "outputs": [
    {
     "data": {
      "image/png": "[encoded data removed]",
      "text/plain": [
       "<Figure size 432x288 with 1 Axes>"
      ]
     },
     "metadata": {
      "needs_background": "light"
     },
     "output_type": "display_data"
    }
   ],
   "source": [
    "plt.hist(data['description'].apply(lambda x: len(x.split())).values)\n",
    "plt.show()"
   ]
  },
  {
   "cell_type": "markdown",
   "id": "786891c2",
   "metadata": {},
   "source": [
    "Большая часть данных распределена до 100 слов"
   ]
  },
  {
   "cell_type": "markdown",
   "id": "22e94350",
   "metadata": {},
   "source": [
    "### А теперь посмотрим как распределен рейтинг"
   ]
  },
  {
   "cell_type": "code",
   "execution_count": 82,
   "id": "0d9736b3",
   "metadata": {},
   "outputs": [
    {
     "data": {
      "image/png": "[encoded data removed]",
      "text/plain": [
       "<Figure size 432x288 with 1 Axes>"
      ]
     },
     "metadata": {
      "needs_background": "light"
     },
     "output_type": "display_data"
    }
   ],
   "source": [
    "plt.hist(data['rating'].values)\n",
    "plt.show()"
   ]
  },
  {
   "cell_type": "markdown",
   "id": "ac1b33ef",
   "metadata": {},
   "source": [
    "Распределение имеет форму, близкую к нормальному"
   ]
  },
  {
   "cell_type": "markdown",
   "id": "184e750f",
   "metadata": {},
   "source": [
    " # Создаем модель"
   ]
  },
  {
   "cell_type": "code",
   "execution_count": 83,
   "id": "1e3388ba",
   "metadata": {},
   "outputs": [],
   "source": [
    "X = data['description']\n",
    "y = data['rating']"
   ]
  },
  {
   "cell_type": "markdown",
   "id": "d706508b",
   "metadata": {},
   "source": [
    "### baseline - будем использовать предсказание среднего значения"
   ]
  },
  {
   "cell_type": "code",
   "execution_count": 84,
   "id": "bad3d4d9",
   "metadata": {},
   "outputs": [],
   "source": [
    "from sklearn.dummy import DummyRegressor"
   ]
  },
  {
   "cell_type": "code",
   "execution_count": 85,
   "id": "12c82d19",
   "metadata": {},
   "outputs": [],
   "source": [
    "dummy = DummyRegressor()"
   ]
  },
  {
   "cell_type": "markdown",
   "id": "8e56de74",
   "metadata": {},
   "source": [
    "#### Оценим наш baseline"
   ]
  },
  {
   "cell_type": "code",
   "execution_count": 112,
   "id": "e798de28",
   "metadata": {},
   "outputs": [],
   "source": [
    "from sklearn.model_selection import cross_val_score"
   ]
  },
  {
   "cell_type": "code",
   "execution_count": 129,
   "id": "a0d077c4",
   "metadata": {},
   "outputs": [],
   "source": [
    "score = cross_val_score(dummy, X, y, cv=10, scoring='neg_mean_squared_error')"
   ]
  },
  {
   "cell_type": "code",
   "execution_count": 130,
   "id": "ac068139",
   "metadata": {},
   "outputs": [
    {
     "data": {
      "text/plain": [
       "-0.8890957257661487"
      ]
     },
     "execution_count": 130,
     "metadata": {},
     "output_type": "execute_result"
    }
   ],
   "source": [
    "score.mean()"
   ]
  },
  {
   "cell_type": "markdown",
   "id": "9c315b06",
   "metadata": {},
   "source": [
    "## preprocessing"
   ]
  },
  {
   "cell_type": "markdown",
   "id": "8aeb3304",
   "metadata": {},
   "source": [
    "В текстах появились ошибки из-за кодировки, так пробел в некоторых местах заменился на \"\\xa0\", исправим это"
   ]
  },
  {
   "cell_type": "code",
   "execution_count": 89,
   "id": "e8dc1232",
   "metadata": {},
   "outputs": [
    {
     "data": {
      "text/plain": [
       "'Двое бандитов Винсент Вега и Джулс Винфилд ведут философские беседы в перерывах между разборками и решением проблем с должниками криминального босса Марселласа Уоллеса.'"
      ]
     },
     "execution_count": 89,
     "metadata": {},
     "output_type": "execute_result"
    }
   ],
   "source": [
    "X[16]"
   ]
  },
  {
   "cell_type": "code",
   "execution_count": 90,
   "id": "467d9c99",
   "metadata": {},
   "outputs": [],
   "source": [
    "X = X.replace('\\xa0', ' ')"
   ]
  },
  {
   "cell_type": "markdown",
   "id": "9696a8cc",
   "metadata": {},
   "source": [
    "#### Вторым решением попробуем использовать TF-IDF с классической моделью. Поэтому необходимо предобработать текст: удалить знаки препинаний, нормализовать текст, разбить его на токены."
   ]
  },
  {
   "cell_type": "code",
   "execution_count": 91,
   "id": "97c2491e",
   "metadata": {},
   "outputs": [
    {
     "name": "stderr",
     "output_type": "stream",
     "text": [
      "[nltk_data] Downloading package stopwords to /root/nltk_data...\n",
      "[nltk_data]   Package stopwords is already up-to-date!\n",
      "[nltk_data] Downloading package punkt to /root/nltk_data...\n",
      "[nltk_data]   Package punkt is already up-to-date!\n",
      "[nltk_data] Downloading package snowball_data to /root/nltk_data...\n",
      "[nltk_data]   Package snowball_data is already up-to-date!\n",
      "[nltk_data] Downloading package perluniprops to /root/nltk_data...\n",
      "[nltk_data]   Package perluniprops is already up-to-date!\n",
      "[nltk_data] Downloading package universal_tagset to /root/nltk_data...\n",
      "[nltk_data]   Package universal_tagset is already up-to-date!\n",
      "[nltk_data] Downloading package stopwords to /root/nltk_data...\n",
      "[nltk_data]   Package stopwords is already up-to-date!\n",
      "[nltk_data] Downloading package nonbreaking_prefixes to\n",
      "[nltk_data]     /root/nltk_data...\n",
      "[nltk_data]   Package nonbreaking_prefixes is already up-to-date!\n",
      "[nltk_data] Downloading package wordnet to /root/nltk_data...\n",
      "[nltk_data]   Package wordnet is already up-to-date!\n"
     ]
    },
    {
     "data": {
      "text/plain": [
       "True"
      ]
     },
     "execution_count": 91,
     "metadata": {},
     "output_type": "execute_result"
    }
   ],
   "source": [
    "import nltk\n",
    "nltk.download('stopwords')\n",
    "nltk.download('punkt')\n",
    "nltk.download('snowball_data')\n",
    "nltk.download('perluniprops')\n",
    "nltk.download('universal_tagset')\n",
    "nltk.download('stopwords')\n",
    "nltk.download('nonbreaking_prefixes')\n",
    "nltk.download('wordnet')"
   ]
  },
  {
   "cell_type": "code",
   "execution_count": 92,
   "id": "ab5531a5",
   "metadata": {},
   "outputs": [],
   "source": [
    "# токенизация\n",
    "from nltk.tokenize import word_tokenize"
   ]
  },
  {
   "cell_type": "code",
   "execution_count": 93,
   "id": "8673a401",
   "metadata": {},
   "outputs": [],
   "source": [
    "X_tokenized = X.apply(lambda x: word_tokenize(x))"
   ]
  },
  {
   "cell_type": "code",
   "execution_count": 94,
   "id": "c6688147",
   "metadata": {},
   "outputs": [
    {
     "data": {
      "text/plain": [
       "['1987',\n",
       " 'год',\n",
       " '.',\n",
       " 'Джордан',\n",
       " 'Белфорт',\n",
       " 'становится',\n",
       " 'брокером',\n",
       " 'в',\n",
       " 'успешном',\n",
       " 'инвестиционном']"
      ]
     },
     "execution_count": 94,
     "metadata": {},
     "output_type": "execute_result"
    }
   ],
   "source": [
    "X_tokenized[0][:10]"
   ]
  },
  {
   "cell_type": "code",
   "execution_count": 95,
   "id": "721f4333",
   "metadata": {},
   "outputs": [],
   "source": [
    "# удаление знаков пунктуации\n",
    "punct = '!\"#$%&()*\\+,-\\./:;<=>?@\\[\\]^_`{|}~„“«»†*\\—/\\-‘’'\n",
    "X_tokenized = X_tokenized.apply(lambda text: [w.strip(punct) for w in text])"
   ]
  },
  {
   "cell_type": "code",
   "execution_count": 96,
   "id": "aa48ef82",
   "metadata": {},
   "outputs": [],
   "source": [
    "# перевод в нижный регистр и удаление пустых строк\n",
    "X_tokenized = X_tokenized.apply(lambda text: [w.lower() for w in text if w != ''])"
   ]
  },
  {
   "cell_type": "code",
   "execution_count": 97,
   "id": "2b5dd8b0",
   "metadata": {},
   "outputs": [
    {
     "data": {
      "text/plain": [
       "['1987',\n",
       " 'год',\n",
       " 'джордан',\n",
       " 'белфорт',\n",
       " 'становится',\n",
       " 'брокером',\n",
       " 'в',\n",
       " 'успешном',\n",
       " 'инвестиционном',\n",
       " 'банке']"
      ]
     },
     "execution_count": 97,
     "metadata": {},
     "output_type": "execute_result"
    }
   ],
   "source": [
    "X_tokenized[0][:10]"
   ]
  },
  {
   "cell_type": "markdown",
   "id": "1c42c187",
   "metadata": {},
   "source": [
    "### удалим стоп-слова"
   ]
  },
  {
   "cell_type": "code",
   "execution_count": 98,
   "id": "8378b312",
   "metadata": {},
   "outputs": [],
   "source": [
    "from nltk.corpus import stopwords"
   ]
  },
  {
   "cell_type": "code",
   "execution_count": 99,
   "id": "a17a4a9b",
   "metadata": {},
   "outputs": [],
   "source": [
    "sw = stopwords.words('russian')"
   ]
  },
  {
   "cell_type": "code",
   "execution_count": 100,
   "id": "fc147fe3",
   "metadata": {},
   "outputs": [],
   "source": [
    "X_tokenized = X_tokenized.apply(lambda text: [w for w in text if w not in sw])"
   ]
  },
  {
   "cell_type": "code",
   "execution_count": 101,
   "id": "dcd64c5e",
   "metadata": {},
   "outputs": [
    {
     "data": {
      "text/plain": [
       "['1987',\n",
       " 'год',\n",
       " 'джордан',\n",
       " 'белфорт',\n",
       " 'становится',\n",
       " 'брокером',\n",
       " 'успешном',\n",
       " 'инвестиционном',\n",
       " 'банке',\n",
       " 'вскоре',\n",
       " 'банк',\n",
       " 'закрывается',\n",
       " 'внезапного',\n",
       " 'обвала',\n",
       " 'индекса']"
      ]
     },
     "execution_count": 101,
     "metadata": {},
     "output_type": "execute_result"
    }
   ],
   "source": [
    "X_tokenized[0][:15]"
   ]
  },
  {
   "cell_type": "markdown",
   "id": "0e7b7828",
   "metadata": {},
   "source": [
    "### Нормализация слов"
   ]
  },
  {
   "cell_type": "code",
   "execution_count": 102,
   "id": "5ca6c646",
   "metadata": {},
   "outputs": [
    {
     "name": "stdout",
     "output_type": "stream",
     "text": [
      "Requirement already satisfied: pymorphy2 in /usr/local/lib/python3.8/dist-packages (0.9.1)\n",
      "Requirement already satisfied: dawg-python>=0.7.1 in /usr/local/lib/python3.8/dist-packages (from pymorphy2) (0.7.2)\n",
      "Requirement already satisfied: docopt>=0.6 in /usr/local/lib/python3.8/dist-packages (from pymorphy2) (0.6.2)\n",
      "Requirement already satisfied: pymorphy2-dicts-ru<3.0,>=2.4 in /usr/local/lib/python3.8/dist-packages (from pymorphy2) (2.4.417127.4579844)\n",
      "\u001b[33mWARNING: Running pip as the 'root' user can result in broken permissions and conflicting behaviour with the system package manager. It is recommended to use a virtual environment instead: https://pip.pypa.io/warnings/venv\u001b[0m\n",
      "\u001b[33mWARNING: You are using pip version 21.3.1; however, version 22.2.2 is available.\n",
      "You should consider upgrading via the '/usr/bin/python3 -m pip install --upgrade pip' command.\u001b[0m\n"
     ]
    }
   ],
   "source": [
    "! pip install pymorphy2"
   ]
  },
  {
   "cell_type": "code",
   "execution_count": 103,
   "id": "aebc465d",
   "metadata": {},
   "outputs": [],
   "source": [
    "from pymorphy2 import MorphAnalyzer\n",
    "\n",
    "morph = MorphAnalyzer()"
   ]
  },
  {
   "cell_type": "code",
   "execution_count": 104,
   "id": "62508d32",
   "metadata": {},
   "outputs": [],
   "source": [
    "X_tokenized = X_tokenized.apply(lambda text: [morph.parse(word)[0].normal_form for word in text])"
   ]
  },
  {
   "cell_type": "code",
   "execution_count": 105,
   "id": "365d7abe",
   "metadata": {},
   "outputs": [
    {
     "data": {
      "text/plain": [
       "['1987',\n",
       " 'год',\n",
       " 'джордан',\n",
       " 'белфорт',\n",
       " 'становиться',\n",
       " 'брокер',\n",
       " 'успешный',\n",
       " 'инвестиционный',\n",
       " 'банк',\n",
       " 'вскоре']"
      ]
     },
     "execution_count": 105,
     "metadata": {},
     "output_type": "execute_result"
    }
   ],
   "source": [
    "X_tokenized[0][:10]"
   ]
  },
  {
   "cell_type": "markdown",
   "id": "73086e13",
   "metadata": {},
   "source": [
    "Make model"
   ]
  },
  {
   "cell_type": "code",
   "execution_count": 107,
   "id": "a99ac03c",
   "metadata": {},
   "outputs": [],
   "source": [
    "from sklearn.feature_extraction.text import TfidfVectorizer\n",
    "from sklearn.linear_model import LinearRegression\n",
    "from sklearn.svm import SVR"
   ]
  },
  {
   "cell_type": "code",
   "execution_count": 108,
   "id": "94ded976",
   "metadata": {},
   "outputs": [],
   "source": [
    "from sklearn.pipeline import Pipeline"
   ]
  },
  {
   "cell_type": "code",
   "execution_count": 118,
   "id": "d989f18d",
   "metadata": {},
   "outputs": [],
   "source": [
    "tf_idf_lr = Pipeline([\n",
    "    ('tf-idf', TfidfVectorizer()),\n",
    "    ('lr', LinearRegression())\n",
    "])"
   ]
  },
  {
   "cell_type": "code",
   "execution_count": 127,
   "id": "90186f34",
   "metadata": {},
   "outputs": [],
   "source": [
    "score = cross_val_score(tf_idf_lr, X, y, cv=10, scoring='neg_mean_squared_error')"
   ]
  },
  {
   "cell_type": "code",
   "execution_count": 128,
   "id": "33ee8f5c",
   "metadata": {},
   "outputs": [
    {
     "data": {
      "text/plain": [
       "-0.9004069104481058"
      ]
     },
     "execution_count": 128,
     "metadata": {},
     "output_type": "execute_result"
    }
   ],
   "source": [
    "score.mean()"
   ]
  },
  {
   "cell_type": "markdown",
   "id": "cae266cb",
   "metadata": {},
   "source": [
    "Это скор модели без использования наших преобразований. Теперь попробуем исопльзовать наши преобразования"
   ]
  },
  {
   "cell_type": "code",
   "execution_count": 131,
   "id": "47d6b60c",
   "metadata": {},
   "outputs": [],
   "source": [
    "tf_idf_lr = Pipeline([\n",
    "    ('tf-idf', TfidfVectorizer(preprocessor=' '.join)),\n",
    "    ('lr', LinearRegression())\n",
    "])"
   ]
  },
  {
   "cell_type": "code",
   "execution_count": 132,
   "id": "05feaeae",
   "metadata": {},
   "outputs": [],
   "source": [
    "score = cross_val_score(tf_idf_lr, X_tokenized, y, cv=10, scoring='neg_mean_squared_error')"
   ]
  },
  {
   "cell_type": "code",
   "execution_count": 133,
   "id": "cf330910",
   "metadata": {},
   "outputs": [
    {
     "data": {
      "text/plain": [
       "-0.9328395428184862"
      ]
     },
     "execution_count": 133,
     "metadata": {},
     "output_type": "execute_result"
    }
   ],
   "source": [
    "score.mean()"
   ]
  },
  {
   "cell_type": "markdown",
   "id": "dadc4724",
   "metadata": {},
   "source": [
    "Вывод: как мы видим, собранной выборки в 700 не хватает чтобы эффективно обучить модель (обычное усреднение победило ее), а наша нормализация не добавила точности, попробуем использовать более сложную модель - SVM"
   ]
  },
  {
   "cell_type": "code",
   "execution_count": 137,
   "id": "c88eb079",
   "metadata": {},
   "outputs": [],
   "source": [
    "tf_idf_lr = Pipeline([\n",
    "    ('tf-idf', TfidfVectorizer(preprocessor=' '.join)),\n",
    "    ('lr', SVR())\n",
    "])"
   ]
  },
  {
   "cell_type": "code",
   "execution_count": 138,
   "id": "0f16ba80",
   "metadata": {},
   "outputs": [],
   "source": [
    "score = cross_val_score(tf_idf_lr, X_tokenized, y, cv=10, scoring='neg_mean_squared_error')"
   ]
  },
  {
   "cell_type": "code",
   "execution_count": 136,
   "id": "1c5494d3",
   "metadata": {},
   "outputs": [
    {
     "data": {
      "text/plain": [
       "-0.8608129151631067"
      ]
     },
     "execution_count": 136,
     "metadata": {},
     "output_type": "execute_result"
    }
   ],
   "source": [
    "score.mean()"
   ]
  },
  {
   "cell_type": "markdown",
   "id": "74088ebe",
   "metadata": {},
   "source": [
    "Как мы видим - зависимости в данных нелинейные, поэтому линейная модель не показала хорошего качества, а SVM - дал"
   ]
  },
  {
   "cell_type": "code",
   "execution_count": 140,
   "id": "76d20c3a",
   "metadata": {},
   "outputs": [
    {
     "data": {
      "text/html": [
       "<style>#sk-container-id-1 {color: black;background-color: white;}#sk-container-id-1 pre{padding: 0;}#sk-container-id-1 div.sk-toggleable {background-color: white;}#sk-container-id-1 label.sk-toggleable__label {cursor: pointer;display: block;width: 100%;margin-bottom: 0;padding: 0.3em;box-sizing: border-box;text-align: center;}#sk-container-id-1 label.sk-toggleable__label-arrow:before {content: \"▸\";float: left;margin-right: 0.25em;color: #696969;}#sk-container-id-1 label.sk-toggleable__label-arrow:hover:before {color: black;}#sk-container-id-1 div.sk-estimator:hover label.sk-toggleable__label-arrow:before {color: black;}#sk-container-id-1 div.sk-toggleable__content {max-height: 0;max-width: 0;overflow: hidden;text-align: left;background-color: #f0f8ff;}#sk-container-id-1 div.sk-toggleable__content pre {margin: 0.2em;color: black;border-radius: 0.25em;background-color: #f0f8ff;}#sk-container-id-1 input.sk-toggleable__control:checked~div.sk-toggleable__content {max-height: 200px;max-width: 100%;overflow: auto;}#sk-container-id-1 input.sk-toggleable__control:checked~label.sk-toggleable__label-arrow:before {content: \"▾\";}#sk-container-id-1 div.sk-estimator input.sk-toggleable__control:checked~label.sk-toggleable__label {background-color: #d4ebff;}#sk-container-id-1 div.sk-label input.sk-toggleable__control:checked~label.sk-toggleable__label {background-color: #d4ebff;}#sk-container-id-1 input.sk-hidden--visually {border: 0;clip: rect(1px 1px 1px 1px);clip: rect(1px, 1px, 1px, 1px);height: 1px;margin: -1px;overflow: hidden;padding: 0;position: absolute;width: 1px;}#sk-container-id-1 div.sk-estimator {font-family: monospace;background-color: #f0f8ff;border: 1px dotted black;border-radius: 0.25em;box-sizing: border-box;margin-bottom: 0.5em;}#sk-container-id-1 div.sk-estimator:hover {background-color: #d4ebff;}#sk-container-id-1 div.sk-parallel-item::after {content: \"\";width: 100%;border-bottom: 1px solid gray;flex-grow: 1;}#sk-container-id-1 div.sk-label:hover label.sk-toggleable__label {background-color: #d4ebff;}#sk-container-id-1 div.sk-serial::before {content: \"\";position: absolute;border-left: 1px solid gray;box-sizing: border-box;top: 0;bottom: 0;left: 50%;z-index: 0;}#sk-container-id-1 div.sk-serial {display: flex;flex-direction: column;align-items: center;background-color: white;padding-right: 0.2em;padding-left: 0.2em;position: relative;}#sk-container-id-1 div.sk-item {position: relative;z-index: 1;}#sk-container-id-1 div.sk-parallel {display: flex;align-items: stretch;justify-content: center;background-color: white;position: relative;}#sk-container-id-1 div.sk-item::before, #sk-container-id-1 div.sk-parallel-item::before {content: \"\";position: absolute;border-left: 1px solid gray;box-sizing: border-box;top: 0;bottom: 0;left: 50%;z-index: -1;}#sk-container-id-1 div.sk-parallel-item {display: flex;flex-direction: column;z-index: 1;position: relative;background-color: white;}#sk-container-id-1 div.sk-parallel-item:first-child::after {align-self: flex-end;width: 50%;}#sk-container-id-1 div.sk-parallel-item:last-child::after {align-self: flex-start;width: 50%;}#sk-container-id-1 div.sk-parallel-item:only-child::after {width: 0;}#sk-container-id-1 div.sk-dashed-wrapped {border: 1px dashed gray;margin: 0 0.4em 0.5em 0.4em;box-sizing: border-box;padding-bottom: 0.4em;background-color: white;}#sk-container-id-1 div.sk-label label {font-family: monospace;font-weight: bold;display: inline-block;line-height: 1.2em;}#sk-container-id-1 div.sk-label-container {text-align: center;}#sk-container-id-1 div.sk-container {/* jupyter's `normalize.less` sets `[hidden] { display: none; }` but bootstrap.min.css set `[hidden] { display: none !important; }` so we also need the `!important` here to be able to override the default hidden behavior on the sphinx rendered scikit-learn.org. See: https://github.com/scikit-learn/scikit-learn/issues/21755 */display: inline-block !important;position: relative;}#sk-container-id-1 div.sk-text-repr-fallback {display: none;}</style><div id=\"sk-container-id-1\" class=\"sk-top-container\"><div class=\"sk-text-repr-fallback\"><pre>Pipeline(steps=[(&#x27;tf-idf&#x27;,\n",
       "                 TfidfVectorizer(preprocessor=&lt;built-in method join of str object at 0x7fdb99f32930&gt;)),\n",
       "                (&#x27;lr&#x27;, SVR())])</pre><b>In a Jupyter environment, please rerun this cell to show the HTML representation or trust the notebook. <br />On GitHub, the HTML representation is unable to render, please try loading this page with nbviewer.org.</b></div><div class=\"sk-container\" hidden><div class=\"sk-item sk-dashed-wrapped\"><div class=\"sk-label-container\"><div class=\"sk-label sk-toggleable\"><input class=\"sk-toggleable__control sk-hidden--visually\" id=\"sk-estimator-id-1\" type=\"checkbox\" ><label for=\"sk-estimator-id-1\" class=\"sk-toggleable__label sk-toggleable__label-arrow\">Pipeline</label><div class=\"sk-toggleable__content\"><pre>Pipeline(steps=[(&#x27;tf-idf&#x27;,\n",
       "                 TfidfVectorizer(preprocessor=&lt;built-in method join of str object at 0x7fdb99f32930&gt;)),\n",
       "                (&#x27;lr&#x27;, SVR())])</pre></div></div></div><div class=\"sk-serial\"><div class=\"sk-item\"><div class=\"sk-estimator sk-toggleable\"><input class=\"sk-toggleable__control sk-hidden--visually\" id=\"sk-estimator-id-2\" type=\"checkbox\" ><label for=\"sk-estimator-id-2\" class=\"sk-toggleable__label sk-toggleable__label-arrow\">TfidfVectorizer</label><div class=\"sk-toggleable__content\"><pre>TfidfVectorizer(preprocessor=&lt;built-in method join of str object at 0x7fdb99f32930&gt;)</pre></div></div></div><div class=\"sk-item\"><div class=\"sk-estimator sk-toggleable\"><input class=\"sk-toggleable__control sk-hidden--visually\" id=\"sk-estimator-id-3\" type=\"checkbox\" ><label for=\"sk-estimator-id-3\" class=\"sk-toggleable__label sk-toggleable__label-arrow\">SVR</label><div class=\"sk-toggleable__content\"><pre>SVR()</pre></div></div></div></div></div></div></div>"
      ],
      "text/plain": [
       "Pipeline(steps=[('tf-idf',\n",
       "                 TfidfVectorizer(preprocessor=<built-in method join of str object at 0x7fdb99f32930>)),\n",
       "                ('lr', SVR())])"
      ]
     },
     "execution_count": 140,
     "metadata": {},
     "output_type": "execute_result"
    }
   ],
   "source": [
    "tf_idf_lr.fit(X_tokenized, y)"
   ]
  },
  {
   "cell_type": "code",
   "execution_count": 146,
   "id": "fdaf51bd",
   "metadata": {},
   "outputs": [],
   "source": [
    "c = X_tokenized.values[0]"
   ]
  },
  {
   "cell_type": "code",
   "execution_count": 148,
   "id": "02065b72",
   "metadata": {},
   "outputs": [
    {
     "data": {
      "text/plain": [
       "array([7.80009613])"
      ]
     },
     "execution_count": 148,
     "metadata": {},
     "output_type": "execute_result"
    }
   ],
   "source": [
    "tf_idf_lr.predict([c])"
   ]
  },
  {
   "cell_type": "code",
   "execution_count": 149,
   "id": "555605de",
   "metadata": {},
   "outputs": [
    {
     "data": {
      "text/plain": [
       "'1987 год. Джордан Белфорт становится брокером в успешном инвестиционном банке. Вскоре банк закрывается после внезапного обвала индекса Доу-Джонса. По совету жены Терезы Джордан устраивается в небольшое заведение, занимающееся мелкими акциями. Его настойчивый стиль общения с клиентами и врождённая харизма быстро даёт свои плоды. Он знакомится с соседом по дому Донни, торговцем, который сразу находит общий язык с Джорданом и решает открыть с ним собственную фирму. В качестве сотрудников они нанимают нескольких друзей Белфорта, его отца Макса и называют компанию «Стрэттон Оукмонт». В свободное от работы время Джордан прожигает жизнь: лавирует от одной вечеринки к другой, вступает в сексуальные отношения с проститутками, употребляет множество наркотических препаратов, в том числе кокаин и кваалюд. Однажды наступает момент, когда быстрым обогащением Белфорта начинает интересоваться агент ФБР...'"
      ]
     },
     "execution_count": 149,
     "metadata": {},
     "output_type": "execute_result"
    }
   ],
   "source": [
    "X[0]"
   ]
  }
 ],
 "metadata": {
  "kernelspec": {
   "display_name": "Python 3 (ipykernel)",
   "language": "python",
   "name": "python3"
  },
  "language_info": {
   "codemirror_mode": {
    "name": "ipython",
    "version": 3
   },
   "file_extension": ".py",
   "mimetype": "text/x-python",
   "name": "python",
   "nbconvert_exporter": "python",
   "pygments_lexer": "ipython3",
   "version": "3.8.10"
  }
 },
 "nbformat": 4,
 "nbformat_minor": 5
}
